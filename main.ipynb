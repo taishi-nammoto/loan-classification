{
 "cells": [
  {
   "cell_type": "markdown",
   "metadata": {},
   "source": [
    "# ANN model for loan classification\n",
    "Created by Taishi Nammoto.\n",
    "*****\n",
    "\n",
    "### The Data \n",
    "I will use the data obtained from Kaggle.<br>\n",
    "https://www.kaggle.com/wordsforthewise/lending-club\n",
    "\n",
    "### Abstract \n",
    "In this project, I will guide you how I built an ANN model, trained to predict whether new potential customers will pay back their loan. \n",
    "\n",
    "*****"
   ]
  },
  {
   "cell_type": "markdown",
   "metadata": {},
   "source": [
    "## Step 3: Split the dataset into training data and testing data\n",
    "continue from previous section: preprocessing "
   ]
  },
  {
   "cell_type": "code",
   "execution_count": 1,
   "metadata": {},
   "outputs": [],
   "source": [
    "import pandas as pd \n",
    "from sklearn.model_selection import train_test_split"
   ]
  },
  {
   "cell_type": "code",
   "execution_count": 2,
   "metadata": {},
   "outputs": [],
   "source": [
    "path = 'Data/'\n",
    "file_name = 'clean_data.csv'\n",
    "df = pd.read_csv(path+file_name)"
   ]
  },
  {
   "cell_type": "code",
   "execution_count": 3,
   "metadata": {},
   "outputs": [],
   "source": [
    "X = df.drop('loan_mapped',axis=1).values\n",
    "y = df['loan_mapped'].values"
   ]
  },
  {
   "cell_type": "code",
   "execution_count": 4,
   "metadata": {},
   "outputs": [],
   "source": [
    "X_train, X_test, y_train, y_test = train_test_split(X, y, test_size=0.20, random_state=5)\n",
    "X_train, X_val, y_train, y_val = train_test_split(X_train, y_train, test_size=0.25, random_state=5)"
   ]
  },
  {
   "cell_type": "markdown",
   "metadata": {},
   "source": [
    "## Step 4: Normalization "
   ]
  },
  {
   "cell_type": "code",
   "execution_count": 5,
   "metadata": {},
   "outputs": [],
   "source": [
    "from sklearn.preprocessing import MinMaxScaler"
   ]
  },
  {
   "cell_type": "code",
   "execution_count": 6,
   "metadata": {},
   "outputs": [],
   "source": [
    "scaler = MinMaxScaler()\n",
    "X_train = scaler.fit_transform(X_train)\n",
    "X_val = scaler.transform(X_val)\n",
    "X_test = scaler.transform(X_test)"
   ]
  },
  {
   "cell_type": "markdown",
   "metadata": {},
   "source": [
    "## Step5: Build ANN model"
   ]
  },
  {
   "cell_type": "code",
   "execution_count": 7,
   "metadata": {},
   "outputs": [],
   "source": [
    "import tensorflow as tf\n",
    "from tensorflow.keras.models import Sequential\n",
    "from tensorflow.keras.layers import Dense, Activation,Dropout"
   ]
  },
  {
   "cell_type": "code",
   "execution_count": 8,
   "metadata": {},
   "outputs": [
    {
     "data": {
      "text/plain": [
       "'2.4.0'"
      ]
     },
     "execution_count": 8,
     "metadata": {},
     "output_type": "execute_result"
    }
   ],
   "source": [
    "tf.__version__"
   ]
  },
  {
   "cell_type": "code",
   "execution_count": 9,
   "metadata": {},
   "outputs": [
    {
     "data": {
      "text/plain": [
       "(807186, 65)"
      ]
     },
     "execution_count": 9,
     "metadata": {},
     "output_type": "execute_result"
    }
   ],
   "source": [
    "X_train.shape"
   ]
  },
  {
   "cell_type": "code",
   "execution_count": 10,
   "metadata": {},
   "outputs": [],
   "source": [
    "model = Sequential()\n",
    "\n",
    "model.add(Dense(65,  activation='relu', input_shape=X_train.shape))\n",
    "model.add(Dropout(0.2)) # prevent overfitting\n",
    "\n",
    "model.add(Dense(30, activation='relu'))\n",
    "model.add(Dropout(0.2))\n",
    "\n",
    "model.add(Dense(15, activation='relu'))\n",
    "model.add(Dropout(0.2))\n",
    "\n",
    "model.add(Dense(1,activation='sigmoid'))\n",
    "\n",
    "model.compile(loss='binary_crossentropy', optimizer='adam')"
   ]
  },
  {
   "cell_type": "code",
   "execution_count": 11,
   "metadata": {},
   "outputs": [
    {
     "name": "stdout",
     "output_type": "stream",
     "text": [
      "Model: \"sequential\"\n",
      "_________________________________________________________________\n",
      "Layer (type)                 Output Shape              Param #   \n",
      "=================================================================\n",
      "dense (Dense)                (None, 807186, 65)        4290      \n",
      "_________________________________________________________________\n",
      "dropout (Dropout)            (None, 807186, 65)        0         \n",
      "_________________________________________________________________\n",
      "dense_1 (Dense)              (None, 807186, 30)        1980      \n",
      "_________________________________________________________________\n",
      "dropout_1 (Dropout)          (None, 807186, 30)        0         \n",
      "_________________________________________________________________\n",
      "dense_2 (Dense)              (None, 807186, 15)        465       \n",
      "_________________________________________________________________\n",
      "dropout_2 (Dropout)          (None, 807186, 15)        0         \n",
      "_________________________________________________________________\n",
      "dense_3 (Dense)              (None, 807186, 1)         16        \n",
      "=================================================================\n",
      "Total params: 6,751\n",
      "Trainable params: 6,751\n",
      "Non-trainable params: 0\n",
      "_________________________________________________________________\n"
     ]
    }
   ],
   "source": [
    "model.summary()"
   ]
  },
  {
   "cell_type": "markdown",
   "metadata": {},
   "source": [
    "## Step6: Train the model"
   ]
  },
  {
   "cell_type": "code",
   "execution_count": 12,
   "metadata": {},
   "outputs": [],
   "source": [
    "from tensorflow.keras.callbacks import EarlyStopping,TensorBoard\n",
    "\n",
    "early_stop = EarlyStopping(monitor='val_loss', mode='min', verbose=1, patience=20)\n",
    "\n",
    "board = TensorBoard(log_dir='logs\\fit',\n",
    "                    histogram_freq=1,\n",
    "                    write_graph=True,\n",
    "                    write_images=True,\n",
    "                    update_freq='epoch',\n",
    "                    profile_batch=2,\n",
    "                    embeddings_freq=1)\n",
    "\n",
    "# import tensorflow_addons as tfa\n",
    "# tqdm_callback = tfa.callbacks.TQDMProgressBar()"
   ]
  },
  {
   "cell_type": "code",
   "execution_count": 13,
   "metadata": {
    "scrolled": true
   },
   "outputs": [
    {
     "name": "stdout",
     "output_type": "stream",
     "text": [
      "Epoch 1/600\n",
      "WARNING:tensorflow:Model was constructed with shape (None, 807186, 65) for input KerasTensor(type_spec=TensorSpec(shape=(None, 807186, 65), dtype=tf.float32, name='dense_input'), name='dense_input', description=\"created by layer 'dense_input'\"), but it was called on an input with incompatible shape (None, 65).\n",
      "WARNING:tensorflow:Model was constructed with shape (None, 807186, 65) for input KerasTensor(type_spec=TensorSpec(shape=(None, 807186, 65), dtype=tf.float32, name='dense_input'), name='dense_input', description=\"created by layer 'dense_input'\"), but it was called on an input with incompatible shape (None, 65).\n",
      "25194/25225 [============================>.] - ETA: 0s - loss: 0.1298WARNING:tensorflow:Model was constructed with shape (None, 807186, 65) for input KerasTensor(type_spec=TensorSpec(shape=(None, 807186, 65), dtype=tf.float32, name='dense_input'), name='dense_input', description=\"created by layer 'dense_input'\"), but it was called on an input with incompatible shape (None, 65).\n",
      "25225/25225 [==============================] - 38s 1ms/step - loss: 0.1298 - val_loss: 0.0588\n",
      "Epoch 2/600\n",
      "25225/25225 [==============================] - 36s 1ms/step - loss: 0.0674 - val_loss: 0.0509\n",
      "Epoch 3/600\n",
      "25225/25225 [==============================] - 34s 1ms/step - loss: 0.0566 - val_loss: 0.0422\n",
      "Epoch 4/600\n",
      "25225/25225 [==============================] - 32s 1ms/step - loss: 0.0508 - val_loss: 0.0376\n",
      "Epoch 5/600\n",
      "25225/25225 [==============================] - 33s 1ms/step - loss: 0.0449 - val_loss: 0.0327\n",
      "Epoch 6/600\n",
      "25225/25225 [==============================] - 32s 1ms/step - loss: 0.0413 - val_loss: 0.0395\n",
      "Epoch 7/600\n",
      "25225/25225 [==============================] - 32s 1ms/step - loss: 0.0394 - val_loss: 0.0310\n",
      "Epoch 8/600\n",
      "25225/25225 [==============================] - 30s 1ms/step - loss: 0.0374 - val_loss: 0.0274\n",
      "Epoch 9/600\n",
      "25225/25225 [==============================] - 32s 1ms/step - loss: 0.0367 - val_loss: 0.0277\n",
      "Epoch 10/600\n",
      "25225/25225 [==============================] - 35s 1ms/step - loss: 0.0353 - val_loss: 0.0276\n",
      "Epoch 11/600\n",
      "25225/25225 [==============================] - 32s 1ms/step - loss: 0.0339 - val_loss: 0.0265\n",
      "Epoch 12/600\n",
      "25225/25225 [==============================] - 29s 1ms/step - loss: 0.0330 - val_loss: 0.0253\n",
      "Epoch 13/600\n",
      "25225/25225 [==============================] - 31s 1ms/step - loss: 0.0332 - val_loss: 0.0242\n",
      "Epoch 14/600\n",
      "25225/25225 [==============================] - 42s 2ms/step - loss: 0.0321 - val_loss: 0.0250\n",
      "Epoch 15/600\n",
      "25225/25225 [==============================] - 32s 1ms/step - loss: 0.0308 - val_loss: 0.0221\n",
      "Epoch 16/600\n",
      "25225/25225 [==============================] - 32s 1ms/step - loss: 0.0310 - val_loss: 0.0232\n",
      "Epoch 17/600\n",
      "25225/25225 [==============================] - 29s 1ms/step - loss: 0.0299 - val_loss: 0.0233\n",
      "Epoch 18/600\n",
      "25225/25225 [==============================] - 31s 1ms/step - loss: 0.0299 - val_loss: 0.0208\n",
      "Epoch 19/600\n",
      "25225/25225 [==============================] - 30s 1ms/step - loss: 0.0290 - val_loss: 0.0220\n",
      "Epoch 20/600\n",
      "25225/25225 [==============================] - 31s 1ms/step - loss: 0.0291 - val_loss: 0.0218\n",
      "Epoch 21/600\n",
      "25225/25225 [==============================] - 35s 1ms/step - loss: 0.0285 - val_loss: 0.0207\n",
      "Epoch 22/600\n",
      "25225/25225 [==============================] - 30s 1ms/step - loss: 0.0281 - val_loss: 0.0202\n",
      "Epoch 23/600\n",
      "25225/25225 [==============================] - 30s 1ms/step - loss: 0.0280 - val_loss: 0.0188\n",
      "Epoch 24/600\n",
      "25225/25225 [==============================] - 33s 1ms/step - loss: 0.0277 - val_loss: 0.0194\n",
      "Epoch 25/600\n",
      "25225/25225 [==============================] - 31s 1ms/step - loss: 0.0273 - val_loss: 0.0219\n",
      "Epoch 26/600\n",
      "25225/25225 [==============================] - 31s 1ms/step - loss: 0.0278 - val_loss: 0.0213\n",
      "Epoch 27/600\n",
      "25225/25225 [==============================] - 31s 1ms/step - loss: 0.0268 - val_loss: 0.0190\n",
      "Epoch 28/600\n",
      "25225/25225 [==============================] - 30s 1ms/step - loss: 0.0268 - val_loss: 0.0208\n",
      "Epoch 29/600\n",
      "25225/25225 [==============================] - 30s 1ms/step - loss: 0.0262 - val_loss: 0.0184\n",
      "Epoch 30/600\n",
      "25225/25225 [==============================] - 29s 1ms/step - loss: 0.0261 - val_loss: 0.0181\n",
      "Epoch 31/600\n",
      "25225/25225 [==============================] - 29s 1ms/step - loss: 0.0262 - val_loss: 0.0182\n",
      "Epoch 32/600\n",
      "25225/25225 [==============================] - 29s 1ms/step - loss: 0.0263 - val_loss: 0.0172\n",
      "Epoch 33/600\n",
      "25225/25225 [==============================] - 29s 1ms/step - loss: 0.0258 - val_loss: 0.0187\n",
      "Epoch 34/600\n",
      "25225/25225 [==============================] - 30s 1ms/step - loss: 0.0259 - val_loss: 0.0192\n",
      "Epoch 35/600\n",
      "25225/25225 [==============================] - 31s 1ms/step - loss: 0.0251 - val_loss: 0.0183\n",
      "Epoch 36/600\n",
      "25225/25225 [==============================] - 28s 1ms/step - loss: 0.0249 - val_loss: 0.0218\n",
      "Epoch 37/600\n",
      "25225/25225 [==============================] - 28s 1ms/step - loss: 0.0251 - val_loss: 0.0176\n",
      "Epoch 38/600\n",
      "25225/25225 [==============================] - 29s 1ms/step - loss: 0.0254 - val_loss: 0.0187\n",
      "Epoch 39/600\n",
      "25225/25225 [==============================] - 28s 1ms/step - loss: 0.0243 - val_loss: 0.0169\n",
      "Epoch 40/600\n",
      "25225/25225 [==============================] - 31s 1ms/step - loss: 0.0246 - val_loss: 0.0200\n",
      "Epoch 41/600\n",
      "25225/25225 [==============================] - 30s 1ms/step - loss: 0.0239 - val_loss: 0.0177\n",
      "Epoch 42/600\n",
      "25225/25225 [==============================] - 29s 1ms/step - loss: 0.0247 - val_loss: 0.0165\n",
      "Epoch 43/600\n",
      "25225/25225 [==============================] - 29s 1ms/step - loss: 0.0241 - val_loss: 0.0195\n",
      "Epoch 44/600\n",
      "25225/25225 [==============================] - 28s 1ms/step - loss: 0.0242 - val_loss: 0.0195\n",
      "Epoch 45/600\n",
      "25225/25225 [==============================] - 28s 1ms/step - loss: 0.0245 - val_loss: 0.0181\n",
      "Epoch 46/600\n",
      "25225/25225 [==============================] - 28s 1ms/step - loss: 0.0243 - val_loss: 0.0186\n",
      "Epoch 47/600\n",
      "25225/25225 [==============================] - 28s 1ms/step - loss: 0.0244 - val_loss: 0.0180\n",
      "Epoch 48/600\n",
      "25225/25225 [==============================] - 29s 1ms/step - loss: 0.0238 - val_loss: 0.0196\n",
      "Epoch 49/600\n",
      "25225/25225 [==============================] - 28s 1ms/step - loss: 0.0242 - val_loss: 0.0172\n",
      "Epoch 50/600\n",
      "25225/25225 [==============================] - 28s 1ms/step - loss: 0.0238 - val_loss: 0.0164\n",
      "Epoch 51/600\n",
      "25225/25225 [==============================] - 29s 1ms/step - loss: 0.0237 - val_loss: 0.0184\n",
      "Epoch 52/600\n",
      "25225/25225 [==============================] - 31s 1ms/step - loss: 0.0237 - val_loss: 0.0173\n",
      "Epoch 53/600\n",
      "25225/25225 [==============================] - 30s 1ms/step - loss: 0.0237 - val_loss: 0.0162\n",
      "Epoch 54/600\n",
      "25225/25225 [==============================] - 30s 1ms/step - loss: 0.0239 - val_loss: 0.0193\n",
      "Epoch 55/600\n",
      "25225/25225 [==============================] - 29s 1ms/step - loss: 0.0232 - val_loss: 0.0171\n",
      "Epoch 56/600\n",
      "25225/25225 [==============================] - 28s 1ms/step - loss: 0.0235 - val_loss: 0.0183\n",
      "Epoch 57/600\n",
      "25225/25225 [==============================] - 28s 1ms/step - loss: 0.0235 - val_loss: 0.0202\n",
      "Epoch 58/600\n",
      "25225/25225 [==============================] - 28s 1ms/step - loss: 0.0229 - val_loss: 0.0172\n",
      "Epoch 59/600\n",
      "25225/25225 [==============================] - 28s 1ms/step - loss: 0.0229 - val_loss: 0.0195\n",
      "Epoch 60/600\n",
      "25225/25225 [==============================] - 28s 1ms/step - loss: 0.0220 - val_loss: 0.0178\n",
      "Epoch 61/600\n",
      "25225/25225 [==============================] - 28s 1ms/step - loss: 0.0230 - val_loss: 0.0196\n",
      "Epoch 62/600\n",
      "25225/25225 [==============================] - 28s 1ms/step - loss: 0.0231 - val_loss: 0.0157\n",
      "Epoch 63/600\n",
      "25225/25225 [==============================] - 28s 1ms/step - loss: 0.0231 - val_loss: 0.0157\n",
      "Epoch 64/600\n",
      "25225/25225 [==============================] - 29s 1ms/step - loss: 0.0236 - val_loss: 0.0158\n",
      "Epoch 65/600\n",
      "25225/25225 [==============================] - 29s 1ms/step - loss: 0.0228 - val_loss: 0.0164\n",
      "Epoch 66/600\n",
      "25225/25225 [==============================] - 28s 1ms/step - loss: 0.0232 - val_loss: 0.0163\n",
      "Epoch 67/600\n",
      "25225/25225 [==============================] - 29s 1ms/step - loss: 0.0222 - val_loss: 0.0164\n",
      "Epoch 68/600\n",
      "25225/25225 [==============================] - 28s 1ms/step - loss: 0.0227 - val_loss: 0.0172\n",
      "Epoch 69/600\n",
      "25225/25225 [==============================] - 29s 1ms/step - loss: 0.0230 - val_loss: 0.0156\n",
      "Epoch 70/600\n",
      "25225/25225 [==============================] - 29s 1ms/step - loss: 0.0228 - val_loss: 0.0164\n",
      "Epoch 71/600\n",
      "25225/25225 [==============================] - 29s 1ms/step - loss: 0.0216 - val_loss: 0.0214\n",
      "Epoch 72/600\n",
      "25225/25225 [==============================] - 28s 1ms/step - loss: 0.0222 - val_loss: 0.0169\n",
      "Epoch 73/600\n",
      "25225/25225 [==============================] - 29s 1ms/step - loss: 0.0222 - val_loss: 0.0164\n",
      "Epoch 74/600\n",
      "25225/25225 [==============================] - 30s 1ms/step - loss: 0.0225 - val_loss: 0.0149\n",
      "Epoch 75/600\n",
      "25225/25225 [==============================] - 32s 1ms/step - loss: 0.0226 - val_loss: 0.0167\n",
      "Epoch 76/600\n",
      "25225/25225 [==============================] - 31s 1ms/step - loss: 0.0226 - val_loss: 0.0197\n",
      "Epoch 77/600\n",
      "25225/25225 [==============================] - 33s 1ms/step - loss: 0.0228 - val_loss: 0.0184\n",
      "Epoch 78/600\n",
      "25225/25225 [==============================] - 32s 1ms/step - loss: 0.0220 - val_loss: 0.0185\n",
      "Epoch 79/600\n",
      "25225/25225 [==============================] - 32s 1ms/step - loss: 0.0216 - val_loss: 0.0182\n",
      "Epoch 80/600\n",
      "25225/25225 [==============================] - 30s 1ms/step - loss: 0.0225 - val_loss: 0.0160\n",
      "Epoch 81/600\n",
      "25225/25225 [==============================] - 31s 1ms/step - loss: 0.0219 - val_loss: 0.0158\n",
      "Epoch 82/600\n",
      "25225/25225 [==============================] - 31s 1ms/step - loss: 0.0218 - val_loss: 0.0184\n",
      "Epoch 83/600\n",
      "25225/25225 [==============================] - 32s 1ms/step - loss: 0.0221 - val_loss: 0.0152\n",
      "Epoch 84/600\n",
      "25225/25225 [==============================] - 30s 1ms/step - loss: 0.0219 - val_loss: 0.0164\n",
      "Epoch 85/600\n",
      "25225/25225 [==============================] - 29s 1ms/step - loss: 0.0218 - val_loss: 0.0152\n",
      "Epoch 86/600\n",
      "25225/25225 [==============================] - 32s 1ms/step - loss: 0.0217 - val_loss: 0.0151\n",
      "Epoch 87/600\n",
      "25225/25225 [==============================] - 30s 1ms/step - loss: 0.0216 - val_loss: 0.0156\n",
      "Epoch 88/600\n",
      "25225/25225 [==============================] - 31s 1ms/step - loss: 0.0216 - val_loss: 0.0151\n",
      "Epoch 89/600\n",
      "25225/25225 [==============================] - 31s 1ms/step - loss: 0.0214 - val_loss: 0.0186\n",
      "Epoch 90/600\n",
      "25225/25225 [==============================] - 30s 1ms/step - loss: 0.0206 - val_loss: 0.0162\n",
      "Epoch 91/600\n",
      "25225/25225 [==============================] - 30s 1ms/step - loss: 0.0220 - val_loss: 0.0162\n",
      "Epoch 92/600\n",
      "25225/25225 [==============================] - 30s 1ms/step - loss: 0.0218 - val_loss: 0.0152\n",
      "Epoch 93/600\n",
      "25225/25225 [==============================] - 30s 1ms/step - loss: 0.0213 - val_loss: 0.0186\n",
      "Epoch 94/600\n",
      "25225/25225 [==============================] - 29s 1ms/step - loss: 0.0217 - val_loss: 0.0165\n",
      "Epoch 00094: early stopping\n"
     ]
    },
    {
     "data": {
      "text/plain": [
       "<tensorflow.python.keras.callbacks.History at 0x7fb7b61601d0>"
      ]
     },
     "execution_count": 13,
     "metadata": {},
     "output_type": "execute_result"
    }
   ],
   "source": [
    "model.fit(x=X_train, \n",
    "          y=y_train, \n",
    "          epochs=600,\n",
    "          validation_data=(X_val, y_val),\n",
    "          verbose = 1,\n",
    "          callbacks=[early_stop,board]\n",
    "          )"
   ]
  },
  {
   "cell_type": "code",
   "execution_count": 14,
   "metadata": {},
   "outputs": [
    {
     "data": {
      "text/plain": [
       "Text(0, 0.5, 'losses')"
      ]
     },
     "execution_count": 14,
     "metadata": {},
     "output_type": "execute_result"
    },
    {
     "data": {
      "image/png": "[encoded data removed]",
      "text/plain": [
       "<Figure size 720x360 with 1 Axes>"
      ]
     },
     "metadata": {
      "needs_background": "light"
     },
     "output_type": "display_data"
    }
   ],
   "source": [
    "result = pd.DataFrame(model.history.history)\n",
    "ax = result.plot(figsize=(10,5))\n",
    "ax.set_xlabel(\"epochs\")\n",
    "ax.set_ylabel(\"losses\")"
   ]
  },
  {
   "cell_type": "markdown",
   "metadata": {},
   "source": [
    "## Step7: Evaluate the model"
   ]
  },
  {
   "cell_type": "code",
   "execution_count": 15,
   "metadata": {},
   "outputs": [
    {
     "name": "stderr",
     "output_type": "stream",
     "text": [
      "/opt/anaconda3/envs/mytfenv/lib/python3.7/site-packages/tensorflow/python/keras/engine/sequential.py:450: UserWarning: `model.predict_classes()` is deprecated and will be removed after 2021-01-01. Please use instead:* `np.argmax(model.predict(x), axis=-1)`,   if your model does multi-class classification   (e.g. if it uses a `softmax` last-layer activation).* `(model.predict(x) > 0.5).astype(\"int32\")`,   if your model does binary classification   (e.g. if it uses a `sigmoid` last-layer activation).\n",
      "  warnings.warn('`model.predict_classes()` is deprecated and '\n"
     ]
    },
    {
     "name": "stdout",
     "output_type": "stream",
     "text": [
      "WARNING:tensorflow:Model was constructed with shape (None, 807186, 65) for input KerasTensor(type_spec=TensorSpec(shape=(None, 807186, 65), dtype=tf.float32, name='dense_input'), name='dense_input', description=\"created by layer 'dense_input'\"), but it was called on an input with incompatible shape (None, 65).\n"
     ]
    }
   ],
   "source": [
    "predictions = model.predict_classes(X_test)"
   ]
  },
  {
   "cell_type": "code",
   "execution_count": 16,
   "metadata": {},
   "outputs": [],
   "source": [
    "from sklearn.metrics import classification_report,confusion_matrix"
   ]
  },
  {
   "cell_type": "code",
   "execution_count": 17,
   "metadata": {},
   "outputs": [
    {
     "name": "stdout",
     "output_type": "stream",
     "text": [
      "              precision    recall  f1-score   support\n",
      "\n",
      "           0       1.00      0.98      0.99     53759\n",
      "           1       0.99      1.00      1.00    215303\n",
      "\n",
      "    accuracy                           1.00    269062\n",
      "   macro avg       1.00      0.99      0.99    269062\n",
      "weighted avg       1.00      1.00      1.00    269062\n",
      "\n"
     ]
    }
   ],
   "source": [
    "print(classification_report(y_test,predictions))"
   ]
  },
  {
   "cell_type": "markdown",
   "metadata": {},
   "source": [
    "## Step8: Save the model and scaler"
   ]
  },
  {
   "cell_type": "code",
   "execution_count": 18,
   "metadata": {},
   "outputs": [],
   "source": [
    "model.save(path+'loan_model.h5')"
   ]
  },
  {
   "cell_type": "code",
   "execution_count": 19,
   "metadata": {},
   "outputs": [
    {
     "data": {
      "text/plain": [
       "['/Users/taishinammoto/Documents/tf_project/ANN_projects/loan_classification/Data/loan_scaler.pkl']"
      ]
     },
     "execution_count": 19,
     "metadata": {},
     "output_type": "execute_result"
    }
   ],
   "source": [
    "import joblib\n",
    "joblib.dump(scaler,path+'loan_scaler.pkl')"
   ]
  },
  {
   "cell_type": "markdown",
   "metadata": {},
   "source": [
    "## Step 9: Load the model and scaler"
   ]
  },
  {
   "cell_type": "code",
   "execution_count": 20,
   "metadata": {},
   "outputs": [],
   "source": [
    "from tensorflow.keras.models import load_model"
   ]
  },
  {
   "cell_type": "code",
   "execution_count": 21,
   "metadata": {},
   "outputs": [],
   "source": [
    "model = load_model(path+'loan_model.h5')\n",
    "scaler = joblib.load(path+'loan_scaler.pkl')"
   ]
  },
  {
   "cell_type": "markdown",
   "metadata": {},
   "source": [
    "## Step10: Test the model"
   ]
  },
  {
   "cell_type": "code",
   "execution_count": 22,
   "metadata": {},
   "outputs": [
    {
     "data": {
      "text/plain": [
       "Unnamed: 0         1.981858e+06\n",
       "term               3.600000e+01\n",
       "int_rate           9.490000e+00\n",
       "total_pymnt        1.347789e+04\n",
       "total_pymnt_inv    1.347789e+04\n",
       "                       ...     \n",
       "small_business     0.000000e+00\n",
       "vacation           0.000000e+00\n",
       "wedding            0.000000e+00\n",
       "w                  1.000000e+00\n",
       "Joint App          0.000000e+00\n",
       "Name: 1218764, Length: 65, dtype: float64"
      ]
     },
     "execution_count": 22,
     "metadata": {},
     "output_type": "execute_result"
    }
   ],
   "source": [
    "import random\n",
    "random.seed(101)\n",
    "random_ind = random.randint(0,len(df))\n",
    "\n",
    "X = df.drop('loan_mapped',axis=1)\n",
    "y = df['loan_mapped']\n",
    "\n",
    "person = X.iloc[random_ind]\n",
    "person"
   ]
  },
  {
   "cell_type": "code",
   "execution_count": 23,
   "metadata": {},
   "outputs": [
    {
     "name": "stdout",
     "output_type": "stream",
     "text": [
      "WARNING:tensorflow:Model was constructed with shape (None, 807186, 65) for input KerasTensor(type_spec=TensorSpec(shape=(None, 807186, 65), dtype=tf.float32, name='dense_input'), name='dense_input', description=\"created by layer 'dense_input'\"), but it was called on an input with incompatible shape (None, 65).\n",
      "prediction: [[1]] true answer: 1\n"
     ]
    }
   ],
   "source": [
    "# Will this person pay back the loan?\n",
    "# Yes: 1\n",
    "# No: 0\n",
    "\n",
    "prediction = model.predict_classes(person.values.reshape(1,65))\n",
    "\n",
    "# The true answer\n",
    "true_answer = y.iloc[random_ind]\n",
    "\n",
    "print('prediction:', prediction, 'true answer:', true_answer)"
   ]
  },
  {
   "cell_type": "code",
   "execution_count": null,
   "metadata": {},
   "outputs": [],
   "source": []
  }
 ],
 "metadata": {
  "kernelspec": {
   "display_name": "Python 3",
   "language": "python",
   "name": "python3"
  },
  "language_info": {
   "codemirror_mode": {
    "name": "ipython",
    "version": 3
   },
   "file_extension": ".py",
   "mimetype": "text/x-python",
   "name": "python",
   "nbconvert_exporter": "python",
   "pygments_lexer": "ipython3",
   "version": "3.7.9"
  }
 },
 "nbformat": 4,
 "nbformat_minor": 4
}
